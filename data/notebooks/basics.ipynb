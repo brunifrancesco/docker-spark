{
 "cells": [
  {
   "cell_type": "code",
   "execution_count": 64,
   "metadata": {
    "collapsed": false,
    "scrolled": true
   },
   "outputs": [],
   "source": [
    "df = sqlContext.read.format(\"com.mongodb.spark.sql.DefaultSource\").load()"
   ]
  },
  {
   "cell_type": "code",
   "execution_count": 65,
   "metadata": {
    "collapsed": true
   },
   "outputs": [],
   "source": [
    "import numpy as np"
   ]
  },
  {
   "cell_type": "code",
   "execution_count": 72,
   "metadata": {
    "collapsed": false
   },
   "outputs": [
    {
     "name": "stdout",
     "output_type": "stream",
     "text": [
      "+----------+--------------+--------+--------+--------+-------+---------+---------+---------+--------+\n",
      "|      date|Missing points|WL1-MEAN|WL2-MEAN|WL3-MEAN|WL-MEAN|WHRL1-ACC|WHRL2-ACC|WHRL3-ACC|WHRL-SUM|\n",
      "+----------+--------------+--------+--------+--------+-------+---------+---------+---------+--------+\n",
      "|2016-05-23|             8|    null|    null|    null|   null|     null|     null|     null|    null|\n",
      "|2016-05-24|            69|  2.2762|  2.2761|  2.2778| 2.2767|   17.053|   17.032|   16.988|  51.073|\n",
      "|2016-05-25|            88|  2.3114|  2.3106|  2.3197| 2.3139|    4.906|      4.9|    4.903|  14.709|\n",
      "|2016-05-26|            96|    null|    null|    null|   null|     null|     null|     null|    null|\n",
      "|2016-05-27|            64|  0.4784|  0.3533|  0.3521| 0.3946|    3.798|    2.796|    2.782|   9.376|\n",
      "|2016-05-28|             1|  0.2826|    0.21|  0.2073| 0.2333|    6.537|    4.829|    4.764|   16.13|\n",
      "|2016-05-29|             0|  0.3203|  0.2383|  0.2344| 0.2643|    7.541|    5.572|    5.474|  18.587|\n",
      "|2016-05-30|             1|  0.8138|  0.6101|  0.6025| 0.6755|   18.189|   13.604|    13.37|  45.163|\n",
      "|2016-05-31|             0|  0.5081|  0.3798|  0.3736| 0.4205|    11.89|    8.856|    8.692|  29.438|\n",
      "|2016-06-01|             0|  0.4467|  0.3336|  0.3279| 0.3694|    10.54|    7.841|    7.682|  26.063|\n",
      "|2016-06-02|             1|  0.3354|  0.2496|   0.245| 0.2767|    7.871|    5.825|    5.698|  19.394|\n",
      "|2016-06-03|             0|  0.4164|  0.3107|  0.3053| 0.3441|    9.803|     7.29|    7.136|  24.229|\n",
      "|2016-06-04|             0|  0.3374|  0.2511|  0.2461| 0.2782|    7.985|    5.934|    5.792|  19.711|\n",
      "|2016-06-05|             1|  0.3366|  0.2506|  0.2456| 0.2776|    7.939|      5.9|    5.766|  19.605|\n",
      "|2016-06-06|            14|   0.602|  0.4504|  0.4437| 0.4987|   12.199|    9.119|    8.953|  30.271|\n",
      "|2016-06-07|             0|  0.5039|  0.3739|  0.3683| 0.4154|   11.918|    8.811|    8.663|  29.392|\n",
      "|2016-06-08|            10|  0.4905|  0.3672|  0.3612| 0.4063|   10.414|    7.784|    7.635|  25.833|\n",
      "|2016-06-09|             0|  0.4805|  0.3591|  0.3522| 0.3973|   11.534|    8.606|     8.39|   28.53|\n",
      "|2016-06-10|             0|   0.515|  0.3852|  0.3788| 0.4263|   12.322|    9.191|    9.005|  30.518|\n",
      "|2016-06-11|             0|   0.333|  0.2468|  0.2427| 0.2742|    7.934|     5.87|    5.748|  19.552|\n",
      "+----------+--------------+--------+--------+--------+-------+---------+---------+---------+--------+\n",
      "only showing top 20 rows\n",
      "\n"
     ]
    }
   ],
   "source": [
    "from collections import OrderedDict\n",
    "from pyspark.sql.functions import udf, array, round\n",
    "from pyspark.sql.types import IntegerType, DateType, DoubleType,FloatType\n",
    "from datetime import datetime\n",
    "\n",
    "ref_date = datetime.strptime(\"2000-1-1\", \"%Y-%m-%d\")\n",
    "\n",
    "udf_convert_to_dt = udf(lambda i1, i2, i3: datetime.strptime(\"%s-%s-%s\" %(i1, i2, i3), \"%Y-%m-%d\"), returnType=DateType())\n",
    "udf_is_missing_data = udf(lambda element: 0 if element else 1, returnType=IntegerType())\n",
    "\n",
    "udf_to_date = udf(lambda item: datetime.strftime(item, \"%Y-%m-%d\"))\n",
    "\n",
    "\n",
    "data = df\\\n",
    "    .select(\n",
    "        col(\"serial_number\").alias(\"SN\"), \n",
    "        col(\"time\").alias(\"Time\"),\n",
    "        round(col(\"WL1.WL1-MEAN\"), 4).alias(\"WL1-MEAN\"),\n",
    "        round(col(\"WL2.WL2-MEAN\"), 4).alias(\"WL2-MEAN\"),\n",
    "        round(col(\"WL3.WL3-MEAN\"), 4).alias(\"WL3-MEAN\"),\n",
    "        col(\"WHRL1.WHRL1-ACC\").alias(\"WHRL1-ACC\"),\n",
    "        col(\"WHRL2.WHRL2-ACC\").alias(\"WHRL2-ACC\"),\n",
    "        col(\"WHRL3.WHRL3-ACC\").alias(\"WHRL3-ACC\")\n",
    "    )\\\n",
    "    .filter(df['time'] > ref_date)\\\n",
    "    .withColumn('missing', udf_is_missing_data('WL1-MEAN'))\\\n",
    "    .withColumn('date', udf_to_date(\"time\"))\\\n",
    "    .withColumn('WL-MEAN', round((col(\"WL1-MEAN\") + col(\"WL2-MEAN\") + col(\"WL3-MEAN\"))/3, 4))\\\n",
    "    .withColumn('WHRL-SUM', round(col(\"WHRL1-ACC\") + col(\"WHRL2-ACC\") + col(\"WHRL3-ACC\"), 4))\\\n",
    "    .groupBy(\"date\")\\\n",
    "    .agg({\n",
    "        'WL1-MEAN': \"mean\", \n",
    "        'WL2-MEAN': \"mean\", \n",
    "        \"WL3-MEAN\": \"mean\", \n",
    "        \"missing\":\"sum\", \n",
    "        'WL-MEAN':'mean',\n",
    "        'WHRL1-ACC':'sum',\n",
    "        'WHRL2-ACC':'sum',\n",
    "        'WHRL3-ACC':'sum',\n",
    "        'WHRL-SUM':'sum'\n",
    "    })\\\n",
    "    .orderBy(\"date\")\\\n",
    "    .drop('Time')\\\n",
    "    .select(\n",
    "        'date', \n",
    "        col('sum(missing)').alias(\"Missing points\"),\n",
    "        round(col('avg(WL1-MEAN)'), 4).alias('WL1-MEAN'),\n",
    "        round(col('avg(WL2-MEAN)'), 4).alias('WL2-MEAN'),\n",
    "        round(col('avg(WL3-MEAN)'), 4).alias('WL3-MEAN'),\n",
    "        round(col('avg(WL-MEAN)'), 4).alias('WL-MEAN'),\n",
    "        round(col('sum(WHRL1-ACC)'), 4).alias('WHRL1-ACC'),\n",
    "        round(col('sum(WHRL2-ACC)'), 4).alias('WHRL2-ACC'),\n",
    "        round(col('sum(WHRL3-ACC)'), 4).alias('WHRL3-ACC'),\n",
    "        round(col('sum(WHRL-SUM)'), 4).alias('WHRL-SUM')\n",
    "    )\n",
    "data.show(20)\n",
    "    "
   ]
  },
  {
   "cell_type": "code",
   "execution_count": null,
   "metadata": {
    "collapsed": true
   },
   "outputs": [],
   "source": []
  }
 ],
 "metadata": {
  "kernelspec": {
   "display_name": "Python 3",
   "language": "python",
   "name": "python3"
  },
  "language_info": {
   "codemirror_mode": {
    "name": "ipython",
    "version": 3
   },
   "file_extension": ".py",
   "mimetype": "text/x-python",
   "name": "python",
   "nbconvert_exporter": "python",
   "pygments_lexer": "ipython3",
   "version": "3.4.2"
  }
 },
 "nbformat": 4,
 "nbformat_minor": 1
}

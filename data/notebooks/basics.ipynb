{
 "cells": [
  {
   "cell_type": "code",
   "execution_count": 3,
   "metadata": {
    "collapsed": false,
    "scrolled": true
   },
   "outputs": [],
   "source": [
    "df = sqlContext.read.format(\"com.mongodb.spark.sql.DefaultSource\").load()"
   ]
  },
  {
   "cell_type": "code",
   "execution_count": 4,
   "metadata": {
    "collapsed": true
   },
   "outputs": [],
   "source": [
    "import numpy as np"
   ]
  },
  {
   "cell_type": "code",
   "execution_count": 63,
   "metadata": {
    "collapsed": false
   },
   "outputs": [
    {
     "name": "stdout",
     "output_type": "stream",
     "text": [
      "+----------+--------------+-------+\n",
      "|      date|Missing points|WL-MEAN|\n",
      "+----------+--------------+-------+\n",
      "|2016-05-23|             8|   null|\n",
      "|2016-05-24|            69| 2.2767|\n",
      "|2016-05-25|            88| 2.3139|\n",
      "|2016-05-26|            96|   null|\n",
      "|2016-05-27|            64| 0.3946|\n",
      "|2016-05-28|             1| 0.2333|\n",
      "|2016-05-29|             0| 0.2643|\n",
      "|2016-05-30|             1| 0.6755|\n",
      "|2016-05-31|             0| 0.4205|\n",
      "|2016-06-01|             0| 0.3694|\n",
      "|2016-06-02|             1| 0.2767|\n",
      "|2016-06-03|             0| 0.3441|\n",
      "|2016-06-04|             0| 0.2782|\n",
      "|2016-06-05|             1| 0.2776|\n",
      "|2016-06-06|            14| 0.4987|\n",
      "|2016-06-07|             0| 0.4154|\n",
      "|2016-06-08|            10| 0.4063|\n",
      "|2016-06-09|             0| 0.3973|\n",
      "|2016-06-10|             0| 0.4263|\n",
      "|2016-06-11|             0| 0.2742|\n",
      "+----------+--------------+-------+\n",
      "only showing top 20 rows\n",
      "\n"
     ]
    }
   ],
   "source": [
    "from collections import OrderedDict\n",
    "from pyspark.sql.functions import udf, array\n",
    "from pyspark.sql.types import IntegerType, DateType, DoubleType\n",
    "from datetime import datetime\n",
    "\n",
    "ref_date = datetime.strptime(\"2000-1-1\", \"%Y-%m-%d\")\n",
    "\n",
    "udf_convert_to_dt = udf(lambda i1, i2, i3: datetime.strptime(\"%s-%s-%s\" %(i1, i2, i3), \"%Y-%m-%d\"), returnType=DateType())\n",
    "udf_is_missing_data = udf(lambda element: 0 if element else 1, returnType=IntegerType())\n",
    "\n",
    "udf_to_date = udf(lambda item: datetime.strftime(item, \"%Y-%m-%d\"))\n",
    "\n",
    "from pyspark.sql.functions import array, udf, round\n",
    "from pyspark.sql.types import FloatType\n",
    "\n",
    "def a(xs1):\n",
    "    return 1\n",
    "\n",
    "median_udf = udf(a, FloatType())\n",
    "mean = udf(a, DoubleType())\n",
    "\n",
    "data = df\\\n",
    "    .select(\n",
    "        col(\"serial_number\").alias(\"SN\"), \n",
    "        col(\"time\").alias(\"Time\"),\n",
    "        round(col(\"WL1.WL1-MEAN\"), 4).alias(\"WL1-MEAN\"),\n",
    "        round(col(\"WL2.WL2-MEAN\"), 4).alias(\"WL2-MEAN\"),\n",
    "        round(col(\"WL3.WL3-MEAN\"), 4).alias(\"WL3-MEAN\"),\n",
    "        col(\"WHRL1.WHRL1-ACC\").alias(\"WHRL1-ACC\"),\n",
    "        col(\"WHRL2.WHRL2-ACC\").alias(\"WHRL2-ACC\"),\n",
    "        col(\"WHRL3.WHRL3-ACC\").alias(\"WHRL3-ACC\")\n",
    "    )\\\n",
    "    .filter(df['time'] > ref_date)\\\n",
    "    .withColumn('missing', udf_is_missing_data('WL1-MEAN'))\\\n",
    "    .withColumn('date', udf_to_date(\"time\"))\\\n",
    "    .withColumn('WL-MEAN', round((col(\"WL1-MEAN\") + col(\"WL2-MEAN\") + col(\"WL3-MEAN\"))/3, 4))\\\n",
    "    .groupBy(\"date\")\\\n",
    "    .agg({'WL1-MEAN': \"mean\", 'WL2-MEAN': \"mean\", \"WL3-MEAN\": \"mean\", \"missing\":\"sum\", 'WL-MEAN':'mean'})\\\n",
    "    .orderBy(\"date\")\\\n",
    "    .drop('Time')\\\n",
    "    .select('date', col('sum(missing)').alias(\"Missing points\"), round(col('avg(WL-MEAN)'), 4).alias('WL-MEAN'))\n",
    "\n",
    "\n",
    "data.show(20)\n",
    "    "
   ]
  },
  {
   "cell_type": "code",
   "execution_count": null,
   "metadata": {
    "collapsed": true
   },
   "outputs": [],
   "source": []
  }
 ],
 "metadata": {
  "kernelspec": {
   "display_name": "Python 3",
   "language": "python",
   "name": "python3"
  },
  "language_info": {
   "codemirror_mode": {
    "name": "ipython",
    "version": 3
   },
   "file_extension": ".py",
   "mimetype": "text/x-python",
   "name": "python",
   "nbconvert_exporter": "python",
   "pygments_lexer": "ipython3",
   "version": "3.4.2"
  }
 },
 "nbformat": 4,
 "nbformat_minor": 1
}
